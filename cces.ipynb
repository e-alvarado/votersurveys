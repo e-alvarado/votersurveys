{
 "cells": [
  {
   "cell_type": "code",
   "execution_count": 4,
   "metadata": {},
   "outputs": [],
   "source": [
    "import numpy as np\n",
    "import pandas as pd\n",
    "import pyarrow.feather as feather\n",
    "import plotly.express as px"
   ]
  },
  {
   "cell_type": "code",
   "execution_count": 118,
   "metadata": {},
   "outputs": [],
   "source": [
    "df = feather.read_table(r\"C:\\Users\\mexic\\Documents\\Python\\data\\cumulative_2006-2022.feather\").to_pandas()\n",
    "\n",
    "#df.head()"
   ]
  },
  {
   "cell_type": "markdown",
   "metadata": {},
   "source": [
    "After importing data, we will focus on tracking changes on a state to state level across all years in the sample."
   ]
  },
  {
   "cell_type": "code",
   "execution_count": 148,
   "metadata": {},
   "outputs": [
    {
     "name": "stdout",
     "output_type": "stream",
     "text": [
      "sex2             Female    Male\n",
      "year state_abbv                \n",
      "2006 AK            75.0    56.0\n",
      "     AL           311.0   184.0\n",
      "     AR           199.0   157.0\n",
      "     AZ           471.0   492.0\n",
      "     CA          1801.0  1836.0\n",
      "...                 ...     ...\n",
      "2020 VT            85.0    65.0\n",
      "     WA           728.0   646.0\n",
      "     WI           716.0   518.0\n",
      "     WV           261.0   183.0\n",
      "     WY            55.0    40.0\n",
      "\n",
      "[765 rows x 2 columns]\n"
     ]
    },
    {
     "ename": "KeyError",
     "evalue": "'Very Liberal'",
     "output_type": "error",
     "traceback": [
      "\u001b[1;31m---------------------------------------------------------------------------\u001b[0m",
      "\u001b[1;31mKeyError\u001b[0m                                  Traceback (most recent call last)",
      "File \u001b[1;32mc:\\Users\\mexic\\Documents\\Python\\votersurveys\\votersurveys\\venv\\Lib\\site-packages\\pandas\\core\\indexes\\base.py:3790\u001b[0m, in \u001b[0;36mIndex.get_loc\u001b[1;34m(self, key)\u001b[0m\n\u001b[0;32m   3789\u001b[0m \u001b[39mtry\u001b[39;00m:\n\u001b[1;32m-> 3790\u001b[0m     \u001b[39mreturn\u001b[39;00m \u001b[39mself\u001b[39;49m\u001b[39m.\u001b[39;49m_engine\u001b[39m.\u001b[39;49mget_loc(casted_key)\n\u001b[0;32m   3791\u001b[0m \u001b[39mexcept\u001b[39;00m \u001b[39mKeyError\u001b[39;00m \u001b[39mas\u001b[39;00m err:\n",
      "File \u001b[1;32mindex.pyx:152\u001b[0m, in \u001b[0;36mpandas._libs.index.IndexEngine.get_loc\u001b[1;34m()\u001b[0m\n",
      "File \u001b[1;32mindex.pyx:181\u001b[0m, in \u001b[0;36mpandas._libs.index.IndexEngine.get_loc\u001b[1;34m()\u001b[0m\n",
      "File \u001b[1;32mpandas\\_libs\\hashtable_class_helper.pxi:7080\u001b[0m, in \u001b[0;36mpandas._libs.hashtable.PyObjectHashTable.get_item\u001b[1;34m()\u001b[0m\n",
      "File \u001b[1;32mpandas\\_libs\\hashtable_class_helper.pxi:7088\u001b[0m, in \u001b[0;36mpandas._libs.hashtable.PyObjectHashTable.get_item\u001b[1;34m()\u001b[0m\n",
      "\u001b[1;31mKeyError\u001b[0m: 'Very Liberal'",
      "\nThe above exception was the direct cause of the following exception:\n",
      "\u001b[1;31mKeyError\u001b[0m                                  Traceback (most recent call last)",
      "\u001b[1;32mc:\\Users\\mexic\\Documents\\Python\\votersurveys\\votersurveys\\cces.ipynb Cell 4\u001b[0m line \u001b[0;36m3\n\u001b[0;32m     <a href='vscode-notebook-cell:/c%3A/Users/mexic/Documents/Python/votersurveys/votersurveys/cces.ipynb#X10sZmlsZQ%3D%3D?line=32'>33</a>\u001b[0m categories \u001b[39m=\u001b[39m [\u001b[39m'\u001b[39m\u001b[39mVery Liberal\u001b[39m\u001b[39m'\u001b[39m, \u001b[39m'\u001b[39m\u001b[39mLiberal\u001b[39m\u001b[39m'\u001b[39m, \u001b[39m'\u001b[39m\u001b[39mModerate\u001b[39m\u001b[39m'\u001b[39m, \u001b[39m'\u001b[39m\u001b[39mConservative\u001b[39m\u001b[39m'\u001b[39m, \u001b[39m'\u001b[39m\u001b[39mVery Conservative\u001b[39m\u001b[39m'\u001b[39m, \u001b[39m'\u001b[39m\u001b[39mNot Sure\u001b[39m\u001b[39m'\u001b[39m]  \u001b[39m# List of all possible categories\u001b[39;00m\n\u001b[0;32m     <a href='vscode-notebook-cell:/c%3A/Users/mexic/Documents/Python/votersurveys/votersurveys/cces.ipynb#X10sZmlsZQ%3D%3D?line=33'>34</a>\u001b[0m \u001b[39mfor\u001b[39;00m category \u001b[39min\u001b[39;00m categories:\n\u001b[1;32m---> <a href='vscode-notebook-cell:/c%3A/Users/mexic/Documents/Python/votersurveys/votersurveys/cces.ipynb#X10sZmlsZQ%3D%3D?line=34'>35</a>\u001b[0m     pivot_table[\u001b[39mf\u001b[39m\u001b[39m'\u001b[39m\u001b[39m{\u001b[39;00mcategory\u001b[39m}\u001b[39;00m\u001b[39m Proportion\u001b[39m\u001b[39m'\u001b[39m] \u001b[39m=\u001b[39m pivot_table[category] \u001b[39m/\u001b[39m pivot_table[categories]\u001b[39m.\u001b[39msum(axis\u001b[39m=\u001b[39m\u001b[39m1\u001b[39m) \u001b[39m*\u001b[39m \u001b[39m100\u001b[39m\n\u001b[0;32m     <a href='vscode-notebook-cell:/c%3A/Users/mexic/Documents/Python/votersurveys/votersurveys/cces.ipynb#X10sZmlsZQ%3D%3D?line=36'>37</a>\u001b[0m \u001b[39m# Reset the index to have 'Year' and 'State_abbv' as columns\u001b[39;00m\n\u001b[0;32m     <a href='vscode-notebook-cell:/c%3A/Users/mexic/Documents/Python/votersurveys/votersurveys/cces.ipynb#X10sZmlsZQ%3D%3D?line=37'>38</a>\u001b[0m pivot_table\u001b[39m.\u001b[39mreset_index(inplace\u001b[39m=\u001b[39m\u001b[39mTrue\u001b[39;00m)\n",
      "File \u001b[1;32mc:\\Users\\mexic\\Documents\\Python\\votersurveys\\votersurveys\\venv\\Lib\\site-packages\\pandas\\core\\frame.py:3896\u001b[0m, in \u001b[0;36mDataFrame.__getitem__\u001b[1;34m(self, key)\u001b[0m\n\u001b[0;32m   3894\u001b[0m \u001b[39mif\u001b[39;00m \u001b[39mself\u001b[39m\u001b[39m.\u001b[39mcolumns\u001b[39m.\u001b[39mnlevels \u001b[39m>\u001b[39m \u001b[39m1\u001b[39m:\n\u001b[0;32m   3895\u001b[0m     \u001b[39mreturn\u001b[39;00m \u001b[39mself\u001b[39m\u001b[39m.\u001b[39m_getitem_multilevel(key)\n\u001b[1;32m-> 3896\u001b[0m indexer \u001b[39m=\u001b[39m \u001b[39mself\u001b[39;49m\u001b[39m.\u001b[39;49mcolumns\u001b[39m.\u001b[39;49mget_loc(key)\n\u001b[0;32m   3897\u001b[0m \u001b[39mif\u001b[39;00m is_integer(indexer):\n\u001b[0;32m   3898\u001b[0m     indexer \u001b[39m=\u001b[39m [indexer]\n",
      "File \u001b[1;32mc:\\Users\\mexic\\Documents\\Python\\votersurveys\\votersurveys\\venv\\Lib\\site-packages\\pandas\\core\\indexes\\base.py:3797\u001b[0m, in \u001b[0;36mIndex.get_loc\u001b[1;34m(self, key)\u001b[0m\n\u001b[0;32m   3792\u001b[0m     \u001b[39mif\u001b[39;00m \u001b[39misinstance\u001b[39m(casted_key, \u001b[39mslice\u001b[39m) \u001b[39mor\u001b[39;00m (\n\u001b[0;32m   3793\u001b[0m         \u001b[39misinstance\u001b[39m(casted_key, abc\u001b[39m.\u001b[39mIterable)\n\u001b[0;32m   3794\u001b[0m         \u001b[39mand\u001b[39;00m \u001b[39many\u001b[39m(\u001b[39misinstance\u001b[39m(x, \u001b[39mslice\u001b[39m) \u001b[39mfor\u001b[39;00m x \u001b[39min\u001b[39;00m casted_key)\n\u001b[0;32m   3795\u001b[0m     ):\n\u001b[0;32m   3796\u001b[0m         \u001b[39mraise\u001b[39;00m InvalidIndexError(key)\n\u001b[1;32m-> 3797\u001b[0m     \u001b[39mraise\u001b[39;00m \u001b[39mKeyError\u001b[39;00m(key) \u001b[39mfrom\u001b[39;00m \u001b[39merr\u001b[39;00m\n\u001b[0;32m   3798\u001b[0m \u001b[39mexcept\u001b[39;00m \u001b[39mTypeError\u001b[39;00m:\n\u001b[0;32m   3799\u001b[0m     \u001b[39m# If we have a listlike key, _check_indexing_error will raise\u001b[39;00m\n\u001b[0;32m   3800\u001b[0m     \u001b[39m#  InvalidIndexError. Otherwise we fall through and re-raise\u001b[39;00m\n\u001b[0;32m   3801\u001b[0m     \u001b[39m#  the TypeError.\u001b[39;00m\n\u001b[0;32m   3802\u001b[0m     \u001b[39mself\u001b[39m\u001b[39m.\u001b[39m_check_indexing_error(key)\n",
      "\u001b[1;31mKeyError\u001b[0m: 'Very Liberal'"
     ]
    }
   ],
   "source": [
    "#add state abbbv column, ie FL CA etc\n",
    "####how to convert fips codes to state abbv ie FL, GA\n",
    "fips_to_state = {\n",
    "    1: 'AL', 2: 'AK', 4: 'AZ', 5: 'AR', 6: 'CA', 8: 'CO', 9: 'CT', 10: 'DE',\n",
    "    11: 'DC', 12: 'FL', 13: 'GA', 15: 'HI', 16: 'ID', 17: 'IL', 18: 'IN',\n",
    "    19: 'IA', 20: 'KS', 21: 'KY', 22: 'LA', 23: 'ME', 24: 'MD', 25: 'MA',\n",
    "    26: 'MI', 27: 'MN', 28: 'MS', 29: 'MO', 30: 'MT', 31: 'NE', 32: 'NV',\n",
    "    33: 'NH', 34: 'NJ', 35: 'NM', 36: 'NY', 37: 'NC', 38: 'ND', 39: 'OH',\n",
    "    40: 'OK', 41: 'OR', 42: 'PA', 44: 'RI', 45: 'SC', 46: 'SD', 47: 'TN',\n",
    "    48: 'TX', 49: 'UT', 50: 'VT', 51: 'VA', 53: 'WA', 54: 'WV', 55: 'WI',\n",
    "    56: 'WY'\n",
    "}\n",
    "\n",
    "df['state_abbv'] = df['state'].map(fips_to_state)\n",
    "\n",
    "# remove NAs\n",
    "df_sex = df[df['sex'].notna()].copy()\n",
    "\n",
    "#convert to categorical Male/Female\n",
    "df_sex['sex2'] = df_sex['sex'].replace({1.0: \"Male\",\n",
    "                                        2.0: \"Female\"})\n",
    "\n",
    "\n",
    "# Group by 'Year', 'State_abbv', and 'Sex' and count the number of each sex in each group\n",
    "count_table = df_sex.groupby(['year', 'state_abbv', 'sex2']).size().reset_index(name='Count')\n",
    "\n",
    "# Pivot the table to have 'Year' and 'State_abbv' as the index, 'Sex' as columns, and 'Count' as values\n",
    "pivot_table = count_table.pivot_table(index=['year', 'state_abbv'], columns='sex2', values='Count', fill_value=0)\n",
    "\n",
    "# Calculate the proportion of Male and Female\n",
    "pivot_table['Male Proportion'] = pivot_table['Male'] / (pivot_table['Male'] + pivot_table['Female']) * 100\n",
    "pivot_table['Female Proportion'] = pivot_table['Female'] / (pivot_table['Male'] + pivot_table['Female']) * 100\n",
    "\n",
    "# Reset the index to have 'Year' and 'State_abbv' as columns\n",
    "pivot_table.reset_index(inplace=True)\n",
    "\n",
    "# Display the resulting table\n",
    "#print(pivot_table)\n"
   ]
  },
  {
   "cell_type": "code",
   "execution_count": 159,
   "metadata": {},
   "outputs": [
    {
     "name": "stdout",
     "output_type": "stream",
     "text": [
      "ideo5  year state_abbv  Very Liberal  Liberal  Moderate  Conservative  \\\n",
      "315    2012         FL         245.0    646.0    1222.0         997.0   \n",
      "\n",
      "ideo5  Very Conservative  Not Sure  Very Liberal Proportion  \\\n",
      "315                460.0     273.0                 6.375228   \n",
      "\n",
      "ideo5  Liberal Proportion  Moderate Proportion  Conservative Proportion  \\\n",
      "315             16.809784            31.798074                25.943273   \n",
      "\n",
      "ideo5  Very Conservative Proportion  Not Sure Proportion  \n",
      "315                       11.969815             7.103825  \n"
     ]
    },
    {
     "name": "stderr",
     "output_type": "stream",
     "text": [
      "C:\\Users\\mexic\\AppData\\Local\\Temp\\ipykernel_9876\\4190988424.py:6: FutureWarning:\n",
      "\n",
      "The default of observed=False is deprecated and will be changed to True in a future version of pandas. Pass observed=False to retain current behavior or observed=True to adopt the future default and silence this warning.\n",
      "\n"
     ]
    }
   ],
   "source": [
    "## Create poportion table for ideology\n",
    "\n",
    "#filter out NAs from ideology respondants\n",
    "df_ideo = df[df['ideo5'].notna()].copy()\n",
    "#print(df_ideo['ideo5'].unique)\n",
    "\n",
    "# Group by 'Year', 'State_abbv', and 'Sex' and count the number of each sex in each group\n",
    "count_table = df_ideo.groupby(['year', 'state_abbv', 'ideo5']).size().reset_index(name='Count')\n",
    "\n",
    "# Pivot the table to have 'Year' and 'State_abbv' as the index, 'Sex' as columns, and 'Count' as values\n",
    "pivot_table = count_table.pivot_table(index=['year', 'state_abbv'], columns='ideo5', values='Count', fill_value=0)\n",
    "#print(pivot_table)\n",
    "# Calculate the proportion of ideologies\n",
    "categories = ['Very Liberal', 'Liberal', 'Moderate', 'Conservative', 'Very Conservative', 'Not Sure']  # List of all possible categories\n",
    "for category in categories:\n",
    "    pivot_table[f'{category} Proportion'] = pivot_table[category] / pivot_table[categories].sum(axis=1) * 100\n",
    "\n",
    "\n",
    "# Reset the index to have 'Year' and 'State_abbv' as columns\n",
    "pivot_table.reset_index(inplace=True)\n",
    "\n",
    "#test if result worked by adding proportion from a given year and state\n",
    "print(pivot_table[(pivot_table['year'] == 2012) & (pivot_table['state_abbv'] == 'FL')])"
   ]
  },
  {
   "cell_type": "code",
   "execution_count": 163,
   "metadata": {},
   "outputs": [
    {
     "data": {
      "application/vnd.plotly.v1+json": {
       "config": {
        "plotlyServerURL": "https://plot.ly"
       },
       "data": [
        {
         "coloraxis": "coloraxis",
         "geo": "geo",
         "hovertemplate": "year=2006<br>state_abbv=%{location}<br>Very Conservative Proportion=%{z}<extra></extra>",
         "locationmode": "USA-states",
         "locations": [
          "AK",
          "AL",
          "AR",
          "AZ",
          "CA",
          "CO",
          "CT",
          "DC",
          "DE",
          "FL",
          "GA",
          "HI",
          "IA",
          "ID",
          "IL",
          "IN",
          "KS",
          "KY",
          "LA",
          "MA",
          "MD",
          "ME",
          "MI",
          "MN",
          "MO",
          "MS",
          "MT",
          "NC",
          "ND",
          "NE",
          "NH",
          "NJ",
          "NM",
          "NV",
          "NY",
          "OH",
          "OK",
          "OR",
          "PA",
          "RI",
          "SC",
          "SD",
          "TN",
          "TX",
          "UT",
          "VA",
          "VT",
          "WA",
          "WI",
          "WV",
          "WY"
         ],
         "name": "",
         "type": "choropleth",
         "z": [
          5.384615384615385,
          13.608247422680412,
          14.201183431952662,
          10.377358490566039,
          7.869589657110736,
          9.29853181076672,
          6.944444444444445,
          0,
          7.6190476190476195,
          9.26168632590651,
          10.276338514680482,
          6.25,
          12.5,
          11.522633744855968,
          8.744993324432576,
          10.751445086705203,
          9.803921568627452,
          11.46067415730337,
          12.5,
          5.772811918063315,
          4.610951008645533,
          10,
          9.001512859304086,
          10.518292682926829,
          11.304347826086957,
          16.145833333333336,
          14.864864864864865,
          11.003236245954692,
          9.375,
          9.35672514619883,
          10.526315789473683,
          7.186358099878197,
          8.517350157728707,
          9.234828496042216,
          5.094447624499141,
          9.710743801652892,
          12.531328320802004,
          8.876560332871012,
          9.959349593495935,
          6.666666666666667,
          13.004484304932735,
          5.691056910569105,
          12.235649546827794,
          10.65543756865617,
          7.1022727272727275,
          9.75609756097561,
          8.333333333333332,
          8.501314636283961,
          10.163551401869158,
          10.247349823321555,
          17.045454545454543
         ]
        }
       ],
       "frames": [
        {
         "data": [
          {
           "coloraxis": "coloraxis",
           "geo": "geo",
           "hovertemplate": "year=2006<br>state_abbv=%{location}<br>Very Conservative Proportion=%{z}<extra></extra>",
           "locationmode": "USA-states",
           "locations": [
            "AK",
            "AL",
            "AR",
            "AZ",
            "CA",
            "CO",
            "CT",
            "DC",
            "DE",
            "FL",
            "GA",
            "HI",
            "IA",
            "ID",
            "IL",
            "IN",
            "KS",
            "KY",
            "LA",
            "MA",
            "MD",
            "ME",
            "MI",
            "MN",
            "MO",
            "MS",
            "MT",
            "NC",
            "ND",
            "NE",
            "NH",
            "NJ",
            "NM",
            "NV",
            "NY",
            "OH",
            "OK",
            "OR",
            "PA",
            "RI",
            "SC",
            "SD",
            "TN",
            "TX",
            "UT",
            "VA",
            "VT",
            "WA",
            "WI",
            "WV",
            "WY"
           ],
           "name": "",
           "type": "choropleth",
           "z": [
            5.384615384615385,
            13.608247422680412,
            14.201183431952662,
            10.377358490566039,
            7.869589657110736,
            9.29853181076672,
            6.944444444444445,
            0,
            7.6190476190476195,
            9.26168632590651,
            10.276338514680482,
            6.25,
            12.5,
            11.522633744855968,
            8.744993324432576,
            10.751445086705203,
            9.803921568627452,
            11.46067415730337,
            12.5,
            5.772811918063315,
            4.610951008645533,
            10,
            9.001512859304086,
            10.518292682926829,
            11.304347826086957,
            16.145833333333336,
            14.864864864864865,
            11.003236245954692,
            9.375,
            9.35672514619883,
            10.526315789473683,
            7.186358099878197,
            8.517350157728707,
            9.234828496042216,
            5.094447624499141,
            9.710743801652892,
            12.531328320802004,
            8.876560332871012,
            9.959349593495935,
            6.666666666666667,
            13.004484304932735,
            5.691056910569105,
            12.235649546827794,
            10.65543756865617,
            7.1022727272727275,
            9.75609756097561,
            8.333333333333332,
            8.501314636283961,
            10.163551401869158,
            10.247349823321555,
            17.045454545454543
           ]
          }
         ],
         "name": "2006"
        },
        {
         "data": [
          {
           "coloraxis": "coloraxis",
           "geo": "geo",
           "hovertemplate": "year=2007<br>state_abbv=%{location}<br>Very Conservative Proportion=%{z}<extra></extra>",
           "locationmode": "USA-states",
           "locations": [
            "AK",
            "AL",
            "AR",
            "AZ",
            "CA",
            "CO",
            "CT",
            "DC",
            "DE",
            "FL",
            "GA",
            "HI",
            "IA",
            "ID",
            "IL",
            "IN",
            "KS",
            "KY",
            "LA",
            "MA",
            "MD",
            "ME",
            "MI",
            "MN",
            "MO",
            "MS",
            "MT",
            "NC",
            "ND",
            "NE",
            "NH",
            "NJ",
            "NM",
            "NV",
            "NY",
            "OH",
            "OK",
            "OR",
            "PA",
            "RI",
            "SC",
            "SD",
            "TN",
            "TX",
            "UT",
            "VA",
            "VT",
            "WA",
            "WI",
            "WV",
            "WY"
           ],
           "name": "",
           "type": "choropleth",
           "z": [
            16.666666666666664,
            24.516129032258064,
            18.947368421052634,
            9.45273631840796,
            10.42535446205171,
            14.743589743589745,
            8.849557522123893,
            0,
            7.142857142857142,
            15.055467511885896,
            16.39871382636656,
            12.195121951219512,
            14.85148514851485,
            18.75,
            9.808612440191387,
            14.018691588785046,
            13.186813186813188,
            14.705882352941178,
            14.953271028037381,
            9.45945945945946,
            7.142857142857142,
            8.333333333333332,
            12.352941176470589,
            13.966480446927374,
            16.49484536082474,
            10.666666666666668,
            12.121212121212121,
            15.54054054054054,
            17.391304347826086,
            14.545454545454545,
            11.11111111111111,
            9.75609756097561,
            6.557377049180328,
            8.860759493670885,
            7.48502994011976,
            10.741687979539643,
            20.689655172413794,
            14.285714285714285,
            12.471131639722865,
            5.128205128205128,
            20.54794520547945,
            10.344827586206897,
            20.192307692307693,
            12.681638044914134,
            7.142857142857142,
            11.610486891385769,
            4,
            6.363636363636363,
            12.834224598930483,
            7.936507936507936,
            27.77777777777778
           ]
          }
         ],
         "name": "2007"
        },
        {
         "data": [
          {
           "coloraxis": "coloraxis",
           "geo": "geo",
           "hovertemplate": "year=2008<br>state_abbv=%{location}<br>Very Conservative Proportion=%{z}<extra></extra>",
           "locationmode": "USA-states",
           "locations": [
            "AK",
            "AL",
            "AR",
            "AZ",
            "CA",
            "CO",
            "CT",
            "DC",
            "DE",
            "FL",
            "GA",
            "HI",
            "IA",
            "ID",
            "IL",
            "IN",
            "KS",
            "KY",
            "LA",
            "MA",
            "MD",
            "ME",
            "MI",
            "MN",
            "MO",
            "MS",
            "MT",
            "NC",
            "ND",
            "NE",
            "NH",
            "NJ",
            "NM",
            "NV",
            "NY",
            "OH",
            "OK",
            "OR",
            "PA",
            "RI",
            "SC",
            "SD",
            "TN",
            "TX",
            "UT",
            "VA",
            "VT",
            "WA",
            "WI",
            "WV",
            "WY"
           ],
           "name": "",
           "type": "choropleth",
           "z": [
            12,
            19.379844961240313,
            18.295739348370926,
            14.55621301775148,
            11.138268156424582,
            15.471698113207546,
            11.428571428571429,
            3.7735849056603774,
            12.8,
            14.364135407136322,
            17.99775028121485,
            10.869565217391305,
            15.034168564920272,
            20.21857923497268,
            11.774744027303754,
            15.656565656565657,
            14.698795180722893,
            18.4549356223176,
            23.13624678663239,
            8.233276157804461,
            8.918406072106261,
            10.276679841897234,
            13.539651837524177,
            13.735343383584588,
            16.510538641686182,
            23.381294964028775,
            18.421052631578945,
            16.153028692879914,
            13.131313131313133,
            16.182572614107883,
            10.638297872340425,
            11.877828054298641,
            15.384615384615385,
            13.915094339622641,
            8.91032917139614,
            14.963503649635038,
            20.767494356659142,
            17.586206896551722,
            14.588859416445624,
            14.414414414414415,
            17.1875,
            15.714285714285714,
            16.998468606431853,
            18.09613572101791,
            22.910216718266255,
            15.508684863523573,
            10.526315789473683,
            15.331807780320366,
            15.319148936170212,
            14.17004048582996,
            21.311475409836063
           ]
          }
         ],
         "name": "2008"
        },
        {
         "data": [
          {
           "coloraxis": "coloraxis",
           "geo": "geo",
           "hovertemplate": "year=2009<br>state_abbv=%{location}<br>Very Conservative Proportion=%{z}<extra></extra>",
           "locationmode": "USA-states",
           "locations": [
            "AK",
            "AL",
            "AR",
            "AZ",
            "CA",
            "CO",
            "CT",
            "DC",
            "DE",
            "FL",
            "GA",
            "HI",
            "IA",
            "ID",
            "IL",
            "IN",
            "KS",
            "KY",
            "LA",
            "MA",
            "MD",
            "ME",
            "MI",
            "MN",
            "MO",
            "MS",
            "MT",
            "NC",
            "ND",
            "NE",
            "NH",
            "NJ",
            "NM",
            "NV",
            "NY",
            "OH",
            "OK",
            "OR",
            "PA",
            "RI",
            "SC",
            "SD",
            "TN",
            "TX",
            "UT",
            "VA",
            "VT",
            "WA",
            "WI",
            "WV",
            "WY"
           ],
           "name": "",
           "type": "choropleth",
           "z": [
            5.555555555555555,
            10.194174757281553,
            11.333333333333332,
            10,
            7.938931297709924,
            14.396887159533073,
            8.9171974522293,
            0,
            3.8461538461538463,
            8.995215311004785,
            8.237986270022883,
            7.6923076923076925,
            13.114754098360656,
            9.523809523809524,
            6.227758007117438,
            9.508196721311474,
            12.23021582733813,
            12.76595744680851,
            17.159763313609467,
            3.7815126050420167,
            8.542713567839195,
            8.98876404494382,
            7.727272727272727,
            14.027149321266968,
            18.055555555555554,
            13.91304347826087,
            10,
            11.441647597254006,
            7.894736842105263,
            15.53398058252427,
            5.263157894736842,
            7.323943661971831,
            7.874015748031496,
            3.571428571428571,
            6.695156695156696,
            6.109324758842444,
            13.071895424836603,
            13.084112149532709,
            9.55223880597015,
            11.76470588235294,
            14.594594594594595,
            13.333333333333334,
            11.956521739130435,
            12.439261418853254,
            16.161616161616163,
            11.436950146627565,
            6.0606060606060606,
            9.840425531914894,
            11.221122112211221,
            4.444444444444445,
            9.75609756097561
           ]
          }
         ],
         "name": "2009"
        },
        {
         "data": [
          {
           "coloraxis": "coloraxis",
           "geo": "geo",
           "hovertemplate": "year=2010<br>state_abbv=%{location}<br>Very Conservative Proportion=%{z}<extra></extra>",
           "locationmode": "USA-states",
           "locations": [
            "AK",
            "AL",
            "AR",
            "AZ",
            "CA",
            "CO",
            "CT",
            "DC",
            "DE",
            "FL",
            "GA",
            "HI",
            "IA",
            "ID",
            "IL",
            "IN",
            "KS",
            "KY",
            "LA",
            "MA",
            "MD",
            "ME",
            "MI",
            "MN",
            "MO",
            "MS",
            "MT",
            "NC",
            "ND",
            "NE",
            "NH",
            "NJ",
            "NM",
            "NV",
            "NY",
            "OH",
            "OK",
            "OR",
            "PA",
            "RI",
            "SC",
            "SD",
            "TN",
            "TX",
            "UT",
            "VA",
            "VT",
            "WA",
            "WI",
            "WV",
            "WY"
           ],
           "name": "",
           "type": "choropleth",
           "z": [
            20.588235294117645,
            22.986822840409957,
            22.828282828282827,
            20.92871157619359,
            13.349771046143008,
            17.382999044890163,
            12.58191349934469,
            0.6493506493506493,
            13.270142180094787,
            16.472142699845847,
            16.29908552985476,
            15.69767441860465,
            20.135363790186126,
            23.52941176470588,
            13.043478260869565,
            19.55810147299509,
            18.91891891891892,
            19.129287598944593,
            22.041420118343193,
            10.434782608695652,
            11.534701857282501,
            17.49271137026239,
            15.769644779332614,
            16.829533116178066,
            21.3258785942492,
            23.15270935960591,
            19.871794871794872,
            17.030848329048844,
            14.285714285714285,
            21.052631578947366,
            13.372093023255813,
            12.345679012345679,
            16.50943396226415,
            18.4,
            10.56578050443081,
            16.946308724832214,
            28.49462365591398,
            16.666666666666664,
            16.471918582736524,
            7.329842931937172,
            19.66966966966967,
            23.52941176470588,
            24.301964839710443,
            21.454451345755693,
            20.153061224489797,
            19.30879038317055,
            6.185567010309279,
            14.137675795706883,
            15,
            17.29559748427673,
            21.73913043478261
           ]
          }
         ],
         "name": "2010"
        },
        {
         "data": [
          {
           "coloraxis": "coloraxis",
           "geo": "geo",
           "hovertemplate": "year=2011<br>state_abbv=%{location}<br>Very Conservative Proportion=%{z}<extra></extra>",
           "locationmode": "USA-states",
           "locations": [
            "AK",
            "AL",
            "AR",
            "AZ",
            "CA",
            "CO",
            "CT",
            "DC",
            "DE",
            "FL",
            "GA",
            "HI",
            "IA",
            "ID",
            "IL",
            "IN",
            "KS",
            "KY",
            "LA",
            "MA",
            "MD",
            "ME",
            "MI",
            "MN",
            "MO",
            "MS",
            "MT",
            "NC",
            "ND",
            "NE",
            "NH",
            "NJ",
            "NM",
            "NV",
            "NY",
            "OH",
            "OK",
            "OR",
            "PA",
            "RI",
            "SC",
            "SD",
            "TN",
            "TX",
            "UT",
            "VA",
            "VT",
            "WA",
            "WI",
            "WV",
            "WY"
           ],
           "name": "",
           "type": "choropleth",
           "z": [
            15.384615384615385,
            19.327731092436977,
            14.07035175879397,
            14.799999999999999,
            8.845070422535212,
            13.279132791327914,
            8.29875518672199,
            0,
            10.714285714285714,
            8.92608089260809,
            12.357723577235772,
            9.090909090909092,
            14.814814814814813,
            19.379844961240313,
            10.051546391752577,
            14.414414414414415,
            14.957264957264957,
            10.358565737051793,
            15.625,
            8.495145631067961,
            9.510869565217392,
            12.698412698412698,
            10.87248322147651,
            12.041884816753926,
            12.815126050420167,
            15.822784810126583,
            12.676056338028168,
            14.311270125223613,
            8,
            11.851851851851853,
            10.606060606060606,
            8.938547486033519,
            8.75912408759124,
            9.1324200913242,
            5.786618444846293,
            12.190082644628099,
            19.024390243902438,
            12.1875,
            11.913357400722022,
            13.88888888888889,
            13.8996138996139,
            11.428571428571429,
            15.405405405405407,
            13.827512473271561,
            16.766467065868262,
            14.500941619585687,
            6.451612903225806,
            9.533468559837727,
            11.08695652173913,
            8.620689655172415,
            17.94871794871795
           ]
          }
         ],
         "name": "2011"
        },
        {
         "data": [
          {
           "coloraxis": "coloraxis",
           "geo": "geo",
           "hovertemplate": "year=2012<br>state_abbv=%{location}<br>Very Conservative Proportion=%{z}<extra></extra>",
           "locationmode": "USA-states",
           "locations": [
            "AK",
            "AL",
            "AR",
            "AZ",
            "CA",
            "CO",
            "CT",
            "DC",
            "DE",
            "FL",
            "GA",
            "HI",
            "IA",
            "ID",
            "IL",
            "IN",
            "KS",
            "KY",
            "LA",
            "MA",
            "MD",
            "ME",
            "MI",
            "MN",
            "MO",
            "MS",
            "MT",
            "NC",
            "ND",
            "NE",
            "NH",
            "NJ",
            "NM",
            "NV",
            "NY",
            "OH",
            "OK",
            "OR",
            "PA",
            "RI",
            "SC",
            "SD",
            "TN",
            "TX",
            "UT",
            "VA",
            "VT",
            "WA",
            "WI",
            "WV",
            "WY"
           ],
           "name": "",
           "type": "choropleth",
           "z": [
            13.28125,
            18.983957219251337,
            14.754098360655737,
            14.425087108013937,
            11.282660332541568,
            16.08961303462322,
            6.220095693779904,
            0.9174311926605505,
            9.649122807017543,
            11.969815248503773,
            13.462635482030805,
            3.1914893617021276,
            14.285714285714285,
            17.195767195767196,
            10.641399416909621,
            12.855740922473014,
            15.261627906976743,
            14.146341463414632,
            15.965166908563136,
            5.2356020942408374,
            9.416195856873824,
            12.82051282051282,
            11.483797612279705,
            12.108980827447024,
            13.898305084745763,
            21.563981042654028,
            16.194331983805668,
            14.847417840375588,
            13.20754716981132,
            17.91044776119403,
            12.162162162162163,
            7.3999999999999995,
            14.382022471910114,
            13.39421613394216,
            7.567185289957568,
            11.741093828399398,
            19.805194805194805,
            13.261648745519713,
            11.272068809416025,
            6.513409961685824,
            16.919739696312362,
            15.286624203821656,
            16.698292220113853,
            16.936146889558785,
            15.398886827458256,
            13.012361743656472,
            6.289308176100629,
            11.629526462395544,
            14.76976542137272,
            13.17365269461078,
            24.822695035460992
           ]
          }
         ],
         "name": "2012"
        },
        {
         "data": [
          {
           "coloraxis": "coloraxis",
           "geo": "geo",
           "hovertemplate": "year=2013<br>state_abbv=%{location}<br>Very Conservative Proportion=%{z}<extra></extra>",
           "locationmode": "USA-states",
           "locations": [
            "AK",
            "AL",
            "AR",
            "AZ",
            "CA",
            "CO",
            "CT",
            "DC",
            "DE",
            "FL",
            "GA",
            "HI",
            "IA",
            "ID",
            "IL",
            "IN",
            "KS",
            "KY",
            "LA",
            "MA",
            "MD",
            "ME",
            "MI",
            "MN",
            "MO",
            "MS",
            "MT",
            "NC",
            "ND",
            "NE",
            "NH",
            "NJ",
            "NM",
            "NV",
            "NY",
            "OH",
            "OK",
            "OR",
            "PA",
            "RI",
            "SC",
            "SD",
            "TN",
            "TX",
            "UT",
            "VA",
            "VT",
            "WA",
            "WI",
            "WV",
            "WY"
           ],
           "name": "",
           "type": "choropleth",
           "z": [
            9.375,
            7.2727272727272725,
            8.284023668639055,
            10.789473684210527,
            5.5290102389078495,
            10.144927536231885,
            4.545454545454546,
            2.857142857142857,
            10,
            6.5442936951316835,
            8.447937131630647,
            2.5,
            4.878048780487805,
            9.25925925925926,
            8.32,
            9.848484848484848,
            7.262569832402235,
            6.572769953051644,
            8.333333333333332,
            3.592814371257485,
            6.993006993006993,
            4.166666666666666,
            5.7894736842105265,
            9.059233449477352,
            8.2687338501292,
            15.573770491803279,
            4.838709677419355,
            9.071274298056156,
            12.121212121212121,
            3.669724770642202,
            0.8849557522123894,
            4.888888888888889,
            6.451612903225806,
            5.93607305936073,
            4.026115342763874,
            6.351351351351352,
            11.875,
            7.586206896551724,
            7.363420427553444,
            8.450704225352112,
            7.960199004975125,
            6.896551724137931,
            9.12280701754386,
            11.759425493716337,
            10,
            9.25925925925926,
            5.357142857142857,
            7.9908675799086755,
            7.7142857142857135,
            9.917355371900827,
            12
           ]
          }
         ],
         "name": "2013"
        },
        {
         "data": [
          {
           "coloraxis": "coloraxis",
           "geo": "geo",
           "hovertemplate": "year=2014<br>state_abbv=%{location}<br>Very Conservative Proportion=%{z}<extra></extra>",
           "locationmode": "USA-states",
           "locations": [
            "AK",
            "AL",
            "AR",
            "AZ",
            "CA",
            "CO",
            "CT",
            "DC",
            "DE",
            "FL",
            "GA",
            "HI",
            "IA",
            "ID",
            "IL",
            "IN",
            "KS",
            "KY",
            "LA",
            "MA",
            "MD",
            "ME",
            "MI",
            "MN",
            "MO",
            "MS",
            "MT",
            "NC",
            "ND",
            "NE",
            "NH",
            "NJ",
            "NM",
            "NV",
            "NY",
            "OH",
            "OK",
            "OR",
            "PA",
            "RI",
            "SC",
            "SD",
            "TN",
            "TX",
            "UT",
            "VA",
            "VT",
            "WA",
            "WI",
            "WV",
            "WY"
           ],
           "name": "",
           "type": "choropleth",
           "z": [
            12.631578947368421,
            15.05524861878453,
            13.654618473895583,
            12.116991643454039,
            7.263064658990256,
            11.899999999999999,
            6.051437216338881,
            2.2900763358778624,
            9.134615384615383,
            9.21968787515006,
            11.560693641618498,
            4.301075268817205,
            12.041884816753926,
            15.41095890410959,
            8.224926563155686,
            12.145748987854251,
            11.359026369168356,
            12.089356110381077,
            14.511041009463725,
            4.623287671232877,
            6.521739130434782,
            11.455108359133128,
            8.37696335078534,
            10.368217054263566,
            11.902693310165075,
            16.57894736842105,
            18.229166666666664,
            11.251435132032148,
            14.634146341463413,
            16.623376623376622,
            6.730769230769231,
            5.86734693877551,
            10.263157894736842,
            10.236220472440944,
            6.407942238267148,
            9.751121991024071,
            16.80851063829787,
            10.455486542443063,
            8.701957940536621,
            6.132075471698113,
            14.249363867684478,
            17.293233082706767,
            15.492957746478872,
            13.920681394729836,
            16.08695652173913,
            12.078272604588394,
            6.7164179104477615,
            9.145880574452004,
            9.62171052631579,
            14.44759206798867,
            22.448979591836736
           ]
          }
         ],
         "name": "2014"
        },
        {
         "data": [
          {
           "coloraxis": "coloraxis",
           "geo": "geo",
           "hovertemplate": "year=2015<br>state_abbv=%{location}<br>Very Conservative Proportion=%{z}<extra></extra>",
           "locationmode": "USA-states",
           "locations": [
            "AK",
            "AL",
            "AR",
            "AZ",
            "CA",
            "CO",
            "CT",
            "DC",
            "DE",
            "FL",
            "GA",
            "HI",
            "IA",
            "ID",
            "IL",
            "IN",
            "KS",
            "KY",
            "LA",
            "MA",
            "MD",
            "ME",
            "MI",
            "MN",
            "MO",
            "MS",
            "MT",
            "NC",
            "ND",
            "NE",
            "NH",
            "NJ",
            "NM",
            "NV",
            "NY",
            "OH",
            "OK",
            "OR",
            "PA",
            "RI",
            "SC",
            "SD",
            "TN",
            "TX",
            "UT",
            "VA",
            "VT",
            "WA",
            "WI",
            "WV",
            "WY"
           ],
           "name": "",
           "type": "choropleth",
           "z": [
            4.3478260869565215,
            19.170984455958546,
            17.880794701986755,
            12.688821752265861,
            10.837070254110612,
            15.11111111111111,
            7.453416149068323,
            5.263157894736842,
            12.195121951219512,
            11.284046692607005,
            16.625916870415647,
            10.526315789473683,
            9.67741935483871,
            14.772727272727273,
            9.136212624584719,
            16.44295302013423,
            11.818181818181818,
            15.2,
            16.7741935483871,
            4.577464788732395,
            8,
            11.76470588235294,
            11.373390557939913,
            14.785992217898833,
            16.77018633540373,
            19.801980198019802,
            20.833333333333336,
            13.349514563106796,
            21.73913043478261,
            15.09433962264151,
            10,
            8.579088471849866,
            13.541666666666666,
            10.614525139664805,
            7.211538461538461,
            10.883280757097792,
            20.30075187969925,
            12.449799196787147,
            10.509554140127388,
            6.521739130434782,
            14.975845410628018,
            20,
            14.385964912280702,
            16.7741935483871,
            24.166666666666668,
            11.357340720221606,
            9.375,
            10.40268456375839,
            11.191335740072201,
            18,
            20.51282051282051
           ]
          }
         ],
         "name": "2015"
        },
        {
         "data": [
          {
           "coloraxis": "coloraxis",
           "geo": "geo",
           "hovertemplate": "year=2016<br>state_abbv=%{location}<br>Very Conservative Proportion=%{z}<extra></extra>",
           "locationmode": "USA-states",
           "locations": [
            "AK",
            "AL",
            "AR",
            "AZ",
            "CA",
            "CO",
            "CT",
            "DC",
            "DE",
            "FL",
            "GA",
            "HI",
            "IA",
            "ID",
            "IL",
            "IN",
            "KS",
            "KY",
            "LA",
            "MA",
            "MD",
            "ME",
            "MI",
            "MN",
            "MO",
            "MS",
            "MT",
            "NC",
            "ND",
            "NE",
            "NH",
            "NJ",
            "NM",
            "NV",
            "NY",
            "OH",
            "OK",
            "OR",
            "PA",
            "RI",
            "SC",
            "SD",
            "TN",
            "TX",
            "UT",
            "VA",
            "VT",
            "WA",
            "WI",
            "WV",
            "WY"
           ],
           "name": "",
           "type": "choropleth",
           "z": [
            6.956521739130435,
            10.227272727272728,
            9.851301115241636,
            9.096945551128819,
            5.9028932490854675,
            9.01077375122429,
            4.644808743169399,
            5.208333333333334,
            6.367041198501873,
            7.499498696611188,
            9.223300970873787,
            2,
            9.738372093023257,
            11.96319018404908,
            6.494492973794151,
            9.10394265232975,
            7.948243992606285,
            8.47639484978541,
            12.917271407837447,
            3.8834951456310676,
            6.083333333333334,
            7.90273556231003,
            7.491702228544334,
            7.8558225508317925,
            9.854851031321619,
            11.00244498777506,
            15.706806282722512,
            9.090909090909092,
            8.73015873015873,
            8.64864864864865,
            4.533333333333333,
            5.734571272528672,
            6.266318537859007,
            6.043165467625899,
            5.140078721926372,
            8.271513353115727,
            12.199036918138042,
            7.745098039215686,
            7.414772727272727,
            4.716981132075472,
            10.968494749124854,
            16.16766467065868,
            11.367380560131796,
            9.663677130044842,
            12.24105461393597,
            8.271051320378675,
            1.5151515151515151,
            5.547850208044383,
            8.936484490398819,
            11.655011655011654,
            12.121212121212121
           ]
          }
         ],
         "name": "2016"
        },
        {
         "data": [
          {
           "coloraxis": "coloraxis",
           "geo": "geo",
           "hovertemplate": "year=2017<br>state_abbv=%{location}<br>Very Conservative Proportion=%{z}<extra></extra>",
           "locationmode": "USA-states",
           "locations": [
            "AK",
            "AL",
            "AR",
            "AZ",
            "CA",
            "CO",
            "CT",
            "DC",
            "DE",
            "FL",
            "GA",
            "HI",
            "IA",
            "ID",
            "IL",
            "IN",
            "KS",
            "KY",
            "LA",
            "MA",
            "MD",
            "ME",
            "MI",
            "MN",
            "MO",
            "MS",
            "MT",
            "NC",
            "ND",
            "NE",
            "NH",
            "NJ",
            "NM",
            "NV",
            "NY",
            "OH",
            "OK",
            "OR",
            "PA",
            "RI",
            "SC",
            "SD",
            "TN",
            "TX",
            "UT",
            "VA",
            "VT",
            "WA",
            "WI",
            "WV",
            "WY"
           ],
           "name": "",
           "type": "choropleth",
           "z": [
            12.121212121212121,
            14.122137404580155,
            17.575757575757574,
            12.614678899082568,
            8.16326530612245,
            15.269461077844312,
            6.626506024096386,
            3.9215686274509802,
            11.842105263157894,
            11.631205673758865,
            11.363636363636363,
            9.615384615384617,
            13.333333333333334,
            18.69158878504673,
            8.033240997229916,
            14.794520547945206,
            12.857142857142856,
            11.971830985915492,
            18.04123711340206,
            4.624277456647398,
            6.8493150684931505,
            13.684210526315791,
            10.777385159010601,
            14.098360655737704,
            19.30835734870317,
            16.666666666666664,
            15.151515151515152,
            14.285714285714285,
            7.894736842105263,
            10.784313725490197,
            8,
            7.531380753138076,
            16.05839416058394,
            12.32876712328767,
            8.239700374531834,
            11.125,
            14.893617021276595,
            13.090909090909092,
            12.461380020597321,
            8.928571428571429,
            16.84981684981685,
            25,
            15.680473372781064,
            13.690476190476192,
            17.28395061728395,
            13.379073756432247,
            8.108108108108109,
            11.053984575835475,
            13.123359580052494,
            12.844036697247708,
            15
           ]
          }
         ],
         "name": "2017"
        },
        {
         "data": [
          {
           "coloraxis": "coloraxis",
           "geo": "geo",
           "hovertemplate": "year=2018<br>state_abbv=%{location}<br>Very Conservative Proportion=%{z}<extra></extra>",
           "locationmode": "USA-states",
           "locations": [
            "AK",
            "AL",
            "AR",
            "AZ",
            "CA",
            "CO",
            "CT",
            "DC",
            "DE",
            "FL",
            "GA",
            "HI",
            "IA",
            "ID",
            "IL",
            "IN",
            "KS",
            "KY",
            "LA",
            "MA",
            "MD",
            "ME",
            "MI",
            "MN",
            "MO",
            "MS",
            "MT",
            "NC",
            "ND",
            "NE",
            "NH",
            "NJ",
            "NM",
            "NV",
            "NY",
            "OH",
            "OK",
            "OR",
            "PA",
            "RI",
            "SC",
            "SD",
            "TN",
            "TX",
            "UT",
            "VA",
            "VT",
            "WA",
            "WI",
            "WV",
            "WY"
           ],
           "name": "",
           "type": "choropleth",
           "z": [
            14.583333333333334,
            14.639397201291713,
            17.18146718146718,
            15.96958174904943,
            9.132507149666349,
            12.812812812812812,
            7.480916030534352,
            3.149606299212598,
            10.2803738317757,
            11.772758384668036,
            14.293193717277486,
            6.310679611650485,
            11.41304347826087,
            17.352941176470587,
            10.199833472106578,
            14.793328498912256,
            15.203426124197003,
            12.882096069868995,
            18.233618233618234,
            6.016949152542373,
            9.845559845559846,
            10.410094637223976,
            11.023206751054852,
            10.772357723577237,
            15.534633490248822,
            15.704387990762125,
            13.127413127413126,
            14.57985531441291,
            13.414634146341465,
            13.793103448275861,
            9.215017064846416,
            8.376623376623376,
            12.564102564102564,
            15.44461778471139,
            7.604895104895106,
            11.69291338582677,
            15.64945226917058,
            9.845132743362832,
            11.709977542508824,
            7.142857142857142,
            16.228070175438596,
            19.10828025477707,
            17.868098159509202,
            15.54698138901498,
            13.953488372093023,
            12.07590569292697,
            6.976744186046512,
            10.11070110701107,
            10.910582444626742,
            15,
            16.831683168316832
           ]
          }
         ],
         "name": "2018"
        },
        {
         "data": [
          {
           "coloraxis": "coloraxis",
           "geo": "geo",
           "hovertemplate": "year=2019<br>state_abbv=%{location}<br>Very Conservative Proportion=%{z}<extra></extra>",
           "locationmode": "USA-states",
           "locations": [
            "AK",
            "AL",
            "AR",
            "AZ",
            "CA",
            "CO",
            "CT",
            "DC",
            "DE",
            "FL",
            "GA",
            "HI",
            "IA",
            "ID",
            "IL",
            "IN",
            "KS",
            "KY",
            "LA",
            "MA",
            "MD",
            "ME",
            "MI",
            "MN",
            "MO",
            "MS",
            "MT",
            "NC",
            "ND",
            "NE",
            "NH",
            "NJ",
            "NM",
            "NV",
            "NY",
            "OH",
            "OK",
            "OR",
            "PA",
            "RI",
            "SC",
            "SD",
            "TN",
            "TX",
            "UT",
            "VA",
            "VT",
            "WA",
            "WI",
            "WV",
            "WY"
           ],
           "name": "",
           "type": "choropleth",
           "z": [
            17.857142857142858,
            16.666666666666664,
            22.29299363057325,
            16.3265306122449,
            12.121212121212121,
            14.97005988023952,
            11.042944785276074,
            6.25,
            12.307692307692308,
            10.696338837042354,
            12.147887323943662,
            5.084745762711865,
            21.839080459770116,
            22.115384615384613,
            7.828655834564254,
            14.824120603015075,
            20.3125,
            14.634146341463413,
            15.270935960591133,
            7.920792079207921,
            9.764309764309765,
            11.76470588235294,
            12.152777777777777,
            19.243986254295535,
            18.990384615384613,
            15.267175572519085,
            11.904761904761903,
            18.51851851851852,
            16,
            15.730337078651685,
            8.411214953271028,
            8.070866141732283,
            9.448818897637794,
            18.666666666666668,
            8.007448789571695,
            11.452513966480447,
            25.146198830409354,
            15.105740181268882,
            14.285714285714285,
            4.838709677419355,
            20.55335968379447,
            29.166666666666668,
            26.857142857142858,
            20.046439628482972,
            22.0125786163522,
            16.85185185185185,
            4.761904761904762,
            8.3710407239819,
            12.064343163538874,
            21.25984251968504,
            15.384615384615385
           ]
          }
         ],
         "name": "2019"
        },
        {
         "data": [
          {
           "coloraxis": "coloraxis",
           "geo": "geo",
           "hovertemplate": "year=2020<br>state_abbv=%{location}<br>Very Conservative Proportion=%{z}<extra></extra>",
           "locationmode": "USA-states",
           "locations": [
            "AK",
            "AL",
            "AR",
            "AZ",
            "CA",
            "CO",
            "CT",
            "DC",
            "DE",
            "FL",
            "GA",
            "HI",
            "IA",
            "ID",
            "IL",
            "IN",
            "KS",
            "KY",
            "LA",
            "MA",
            "MD",
            "ME",
            "MI",
            "MN",
            "MO",
            "MS",
            "MT",
            "NC",
            "ND",
            "NE",
            "NH",
            "NJ",
            "NM",
            "NV",
            "NY",
            "OH",
            "OK",
            "OR",
            "PA",
            "RI",
            "SC",
            "SD",
            "TN",
            "TX",
            "UT",
            "VA",
            "VT",
            "WA",
            "WI",
            "WV",
            "WY"
           ],
           "name": "",
           "type": "choropleth",
           "z": [
            10.434782608695652,
            15.783898305084746,
            15.887850467289718,
            14.627477785372523,
            8.167726550079491,
            11.687087653157398,
            6.5420560747663545,
            3.061224489795918,
            8.333333333333332,
            11.383347788378144,
            12.906453226613307,
            5.612244897959184,
            10.917721518987342,
            13.538461538461538,
            8.638743455497382,
            13.137665967854648,
            9.787234042553191,
            14.556331006979061,
            15.193798449612403,
            6.239737274220033,
            8.795074758135444,
            12.535612535612536,
            10.683102208525936,
            8.639523336643496,
            13.386396526772792,
            14.502164502164502,
            12.173913043478262,
            12.207527975584945,
            12.738853503184714,
            9.142857142857142,
            7.9452054794520555,
            8.73959571938169,
            12.121212121212121,
            10.393258426966293,
            7.127429805615551,
            10.011551790527532,
            16.695957820738137,
            10.188261351052049,
            11.708558701877188,
            6.598984771573605,
            14.472455648926239,
            20.98765432098765,
            17.114568599717114,
            14.301903898458749,
            12.770137524557956,
            11.306256860592754,
            4.666666666666667,
            8.673469387755102,
            10.615883306320907,
            17.792792792792792,
            15.789473684210526
           ]
          }
         ],
         "name": "2020"
        },
        {
         "data": [
          {
           "coloraxis": "coloraxis",
           "geo": "geo",
           "hovertemplate": "year=2021<br>state_abbv=%{location}<br>Very Conservative Proportion=%{z}<extra></extra>",
           "locationmode": "USA-states",
           "locations": [
            "AK",
            "AL",
            "AR",
            "AZ",
            "CA",
            "CO",
            "CT",
            "DC",
            "DE",
            "FL",
            "GA",
            "HI",
            "IA",
            "ID",
            "IL",
            "IN",
            "KS",
            "KY",
            "LA",
            "MA",
            "MD",
            "ME",
            "MI",
            "MN",
            "MO",
            "MS",
            "MT",
            "NC",
            "ND",
            "NE",
            "NH",
            "NJ",
            "NM",
            "NV",
            "NY",
            "OH",
            "OK",
            "OR",
            "PA",
            "RI",
            "SC",
            "SD",
            "TN",
            "TX",
            "UT",
            "VA",
            "VT",
            "WA",
            "WI",
            "WV",
            "WY"
           ],
           "name": "",
           "type": "choropleth",
           "z": [
            18.181818181818183,
            15.404040404040403,
            15.454545454545453,
            15.647226173541965,
            8.937823834196891,
            9.68421052631579,
            6.521739130434782,
            1.1235955056179776,
            5.434782608695652,
            12.473794549266247,
            13.231552162849871,
            8.823529411764707,
            7.352941176470589,
            15.172413793103448,
            10.344827586206897,
            12.32876712328767,
            10.460251046025103,
            14.285714285714285,
            12.040133779264215,
            5.73394495412844,
            6.531531531531531,
            13.986013986013987,
            11.917098445595855,
            9.70873786407767,
            13.988657844990549,
            12.23404255319149,
            17.525773195876287,
            15.09433962264151,
            18.64406779661017,
            11.538461538461538,
            10.4,
            9.07715582450832,
            14.14141414141414,
            12.797619047619047,
            6.482670089858793,
            9.825997952917092,
            16.479400749063668,
            11.574074074074074,
            11.448598130841122,
            9.63855421686747,
            16.985645933014354,
            30.985915492957744,
            20.967741935483872,
            14.006024096385541,
            11.11111111111111,
            12.987012987012985,
            6.557377049180328,
            9.21875,
            11.244979919678714,
            15.343915343915343,
            38.88888888888889
           ]
          }
         ],
         "name": "2021"
        },
        {
         "data": [
          {
           "coloraxis": "coloraxis",
           "geo": "geo",
           "hovertemplate": "year=2022<br>state_abbv=%{location}<br>Very Conservative Proportion=%{z}<extra></extra>",
           "locationmode": "USA-states",
           "locations": [
            "AK",
            "AL",
            "AR",
            "AZ",
            "CA",
            "CO",
            "CT",
            "DC",
            "DE",
            "FL",
            "GA",
            "HI",
            "IA",
            "ID",
            "IL",
            "IN",
            "KS",
            "KY",
            "LA",
            "MA",
            "MD",
            "ME",
            "MI",
            "MN",
            "MO",
            "MS",
            "MT",
            "NC",
            "ND",
            "NE",
            "NH",
            "NJ",
            "NM",
            "NV",
            "NY",
            "OH",
            "OK",
            "OR",
            "PA",
            "RI",
            "SC",
            "SD",
            "TN",
            "TX",
            "UT",
            "VA",
            "VT",
            "WA",
            "WI",
            "WV",
            "WY"
           ],
           "name": "",
           "type": "choropleth",
           "z": [
            9.701492537313433,
            13.51063829787234,
            16.3003663003663,
            12.8,
            8.189742550172308,
            9.317963496637848,
            6.532663316582915,
            4.848484848484849,
            9.417040358744394,
            10.764360018091361,
            11.720321931589538,
            7.211538461538461,
            10.92436974789916,
            16.447368421052634,
            8.568864961866307,
            12.168486739469579,
            11.23110151187905,
            15.010570824524313,
            16.363636363636363,
            4.753199268738574,
            8.456243854473943,
            9.968847352024921,
            9.165386584741423,
            9.86908358509567,
            13.723978411719354,
            15.145228215767634,
            14.285714285714285,
            12.21105527638191,
            14.728682170542637,
            13.544668587896252,
            5.964912280701754,
            7.056579783852511,
            12.289156626506024,
            12.137203166226913,
            6.996770721205597,
            10.628980891719745,
            14.431486880466474,
            7.9381443298969065,
            11.601675797615211,
            4.568527918781726,
            13.831967213114755,
            15.789473684210526,
            18.258212375859433,
            12.813487881981034,
            13.717693836978132,
            12.340425531914894,
            4.464285714285714,
            8,
            10.933758978451715,
            14.41048034934498,
            17.894736842105264
           ]
          }
         ],
         "name": "2022"
        }
       ],
       "layout": {
        "coloraxis": {
         "cmax": 38.88888888888889,
         "cmin": 0,
         "colorbar": {
          "title": {
           "text": "Very Conservative Proportion"
          }
         },
         "colorscale": [
          [
           0,
           "rgb(255,245,240)"
          ],
          [
           0.125,
           "rgb(254,224,210)"
          ],
          [
           0.25,
           "rgb(252,187,161)"
          ],
          [
           0.375,
           "rgb(252,146,114)"
          ],
          [
           0.5,
           "rgb(251,106,74)"
          ],
          [
           0.625,
           "rgb(239,59,44)"
          ],
          [
           0.75,
           "rgb(203,24,29)"
          ],
          [
           0.875,
           "rgb(165,15,21)"
          ],
          [
           1,
           "rgb(103,0,13)"
          ]
         ]
        },
        "geo": {
         "center": {},
         "coastlinecolor": "Black",
         "domain": {
          "x": [
           0,
           1
          ],
          "y": [
           0,
           1
          ]
         },
         "landcolor": "white",
         "resolution": 50,
         "scope": "usa",
         "showcoastlines": true,
         "showland": true
        },
        "legend": {
         "tracegroupgap": 0
        },
        "sliders": [
         {
          "active": 0,
          "currentvalue": {
           "prefix": "year="
          },
          "len": 0.9,
          "pad": {
           "b": 10,
           "t": 60
          },
          "steps": [
           {
            "args": [
             [
              "2006"
             ],
             {
              "frame": {
               "duration": 0,
               "redraw": true
              },
              "fromcurrent": true,
              "mode": "immediate",
              "transition": {
               "duration": 0,
               "easing": "linear"
              }
             }
            ],
            "label": "2006",
            "method": "animate"
           },
           {
            "args": [
             [
              "2007"
             ],
             {
              "frame": {
               "duration": 0,
               "redraw": true
              },
              "fromcurrent": true,
              "mode": "immediate",
              "transition": {
               "duration": 0,
               "easing": "linear"
              }
             }
            ],
            "label": "2007",
            "method": "animate"
           },
           {
            "args": [
             [
              "2008"
             ],
             {
              "frame": {
               "duration": 0,
               "redraw": true
              },
              "fromcurrent": true,
              "mode": "immediate",
              "transition": {
               "duration": 0,
               "easing": "linear"
              }
             }
            ],
            "label": "2008",
            "method": "animate"
           },
           {
            "args": [
             [
              "2009"
             ],
             {
              "frame": {
               "duration": 0,
               "redraw": true
              },
              "fromcurrent": true,
              "mode": "immediate",
              "transition": {
               "duration": 0,
               "easing": "linear"
              }
             }
            ],
            "label": "2009",
            "method": "animate"
           },
           {
            "args": [
             [
              "2010"
             ],
             {
              "frame": {
               "duration": 0,
               "redraw": true
              },
              "fromcurrent": true,
              "mode": "immediate",
              "transition": {
               "duration": 0,
               "easing": "linear"
              }
             }
            ],
            "label": "2010",
            "method": "animate"
           },
           {
            "args": [
             [
              "2011"
             ],
             {
              "frame": {
               "duration": 0,
               "redraw": true
              },
              "fromcurrent": true,
              "mode": "immediate",
              "transition": {
               "duration": 0,
               "easing": "linear"
              }
             }
            ],
            "label": "2011",
            "method": "animate"
           },
           {
            "args": [
             [
              "2012"
             ],
             {
              "frame": {
               "duration": 0,
               "redraw": true
              },
              "fromcurrent": true,
              "mode": "immediate",
              "transition": {
               "duration": 0,
               "easing": "linear"
              }
             }
            ],
            "label": "2012",
            "method": "animate"
           },
           {
            "args": [
             [
              "2013"
             ],
             {
              "frame": {
               "duration": 0,
               "redraw": true
              },
              "fromcurrent": true,
              "mode": "immediate",
              "transition": {
               "duration": 0,
               "easing": "linear"
              }
             }
            ],
            "label": "2013",
            "method": "animate"
           },
           {
            "args": [
             [
              "2014"
             ],
             {
              "frame": {
               "duration": 0,
               "redraw": true
              },
              "fromcurrent": true,
              "mode": "immediate",
              "transition": {
               "duration": 0,
               "easing": "linear"
              }
             }
            ],
            "label": "2014",
            "method": "animate"
           },
           {
            "args": [
             [
              "2015"
             ],
             {
              "frame": {
               "duration": 0,
               "redraw": true
              },
              "fromcurrent": true,
              "mode": "immediate",
              "transition": {
               "duration": 0,
               "easing": "linear"
              }
             }
            ],
            "label": "2015",
            "method": "animate"
           },
           {
            "args": [
             [
              "2016"
             ],
             {
              "frame": {
               "duration": 0,
               "redraw": true
              },
              "fromcurrent": true,
              "mode": "immediate",
              "transition": {
               "duration": 0,
               "easing": "linear"
              }
             }
            ],
            "label": "2016",
            "method": "animate"
           },
           {
            "args": [
             [
              "2017"
             ],
             {
              "frame": {
               "duration": 0,
               "redraw": true
              },
              "fromcurrent": true,
              "mode": "immediate",
              "transition": {
               "duration": 0,
               "easing": "linear"
              }
             }
            ],
            "label": "2017",
            "method": "animate"
           },
           {
            "args": [
             [
              "2018"
             ],
             {
              "frame": {
               "duration": 0,
               "redraw": true
              },
              "fromcurrent": true,
              "mode": "immediate",
              "transition": {
               "duration": 0,
               "easing": "linear"
              }
             }
            ],
            "label": "2018",
            "method": "animate"
           },
           {
            "args": [
             [
              "2019"
             ],
             {
              "frame": {
               "duration": 0,
               "redraw": true
              },
              "fromcurrent": true,
              "mode": "immediate",
              "transition": {
               "duration": 0,
               "easing": "linear"
              }
             }
            ],
            "label": "2019",
            "method": "animate"
           },
           {
            "args": [
             [
              "2020"
             ],
             {
              "frame": {
               "duration": 0,
               "redraw": true
              },
              "fromcurrent": true,
              "mode": "immediate",
              "transition": {
               "duration": 0,
               "easing": "linear"
              }
             }
            ],
            "label": "2020",
            "method": "animate"
           },
           {
            "args": [
             [
              "2021"
             ],
             {
              "frame": {
               "duration": 0,
               "redraw": true
              },
              "fromcurrent": true,
              "mode": "immediate",
              "transition": {
               "duration": 0,
               "easing": "linear"
              }
             }
            ],
            "label": "2021",
            "method": "animate"
           },
           {
            "args": [
             [
              "2022"
             ],
             {
              "frame": {
               "duration": 0,
               "redraw": true
              },
              "fromcurrent": true,
              "mode": "immediate",
              "transition": {
               "duration": 0,
               "easing": "linear"
              }
             }
            ],
            "label": "2022",
            "method": "animate"
           }
          ],
          "x": 0.1,
          "xanchor": "left",
          "y": 0,
          "yanchor": "top"
         }
        ],
        "template": {
         "data": {
          "bar": [
           {
            "error_x": {
             "color": "#2a3f5f"
            },
            "error_y": {
             "color": "#2a3f5f"
            },
            "marker": {
             "line": {
              "color": "#E5ECF6",
              "width": 0.5
             },
             "pattern": {
              "fillmode": "overlay",
              "size": 10,
              "solidity": 0.2
             }
            },
            "type": "bar"
           }
          ],
          "barpolar": [
           {
            "marker": {
             "line": {
              "color": "#E5ECF6",
              "width": 0.5
             },
             "pattern": {
              "fillmode": "overlay",
              "size": 10,
              "solidity": 0.2
             }
            },
            "type": "barpolar"
           }
          ],
          "carpet": [
           {
            "aaxis": {
             "endlinecolor": "#2a3f5f",
             "gridcolor": "white",
             "linecolor": "white",
             "minorgridcolor": "white",
             "startlinecolor": "#2a3f5f"
            },
            "baxis": {
             "endlinecolor": "#2a3f5f",
             "gridcolor": "white",
             "linecolor": "white",
             "minorgridcolor": "white",
             "startlinecolor": "#2a3f5f"
            },
            "type": "carpet"
           }
          ],
          "choropleth": [
           {
            "colorbar": {
             "outlinewidth": 0,
             "ticks": ""
            },
            "type": "choropleth"
           }
          ],
          "contour": [
           {
            "colorbar": {
             "outlinewidth": 0,
             "ticks": ""
            },
            "colorscale": [
             [
              0,
              "#0d0887"
             ],
             [
              0.1111111111111111,
              "#46039f"
             ],
             [
              0.2222222222222222,
              "#7201a8"
             ],
             [
              0.3333333333333333,
              "#9c179e"
             ],
             [
              0.4444444444444444,
              "#bd3786"
             ],
             [
              0.5555555555555556,
              "#d8576b"
             ],
             [
              0.6666666666666666,
              "#ed7953"
             ],
             [
              0.7777777777777778,
              "#fb9f3a"
             ],
             [
              0.8888888888888888,
              "#fdca26"
             ],
             [
              1,
              "#f0f921"
             ]
            ],
            "type": "contour"
           }
          ],
          "contourcarpet": [
           {
            "colorbar": {
             "outlinewidth": 0,
             "ticks": ""
            },
            "type": "contourcarpet"
           }
          ],
          "heatmap": [
           {
            "colorbar": {
             "outlinewidth": 0,
             "ticks": ""
            },
            "colorscale": [
             [
              0,
              "#0d0887"
             ],
             [
              0.1111111111111111,
              "#46039f"
             ],
             [
              0.2222222222222222,
              "#7201a8"
             ],
             [
              0.3333333333333333,
              "#9c179e"
             ],
             [
              0.4444444444444444,
              "#bd3786"
             ],
             [
              0.5555555555555556,
              "#d8576b"
             ],
             [
              0.6666666666666666,
              "#ed7953"
             ],
             [
              0.7777777777777778,
              "#fb9f3a"
             ],
             [
              0.8888888888888888,
              "#fdca26"
             ],
             [
              1,
              "#f0f921"
             ]
            ],
            "type": "heatmap"
           }
          ],
          "heatmapgl": [
           {
            "colorbar": {
             "outlinewidth": 0,
             "ticks": ""
            },
            "colorscale": [
             [
              0,
              "#0d0887"
             ],
             [
              0.1111111111111111,
              "#46039f"
             ],
             [
              0.2222222222222222,
              "#7201a8"
             ],
             [
              0.3333333333333333,
              "#9c179e"
             ],
             [
              0.4444444444444444,
              "#bd3786"
             ],
             [
              0.5555555555555556,
              "#d8576b"
             ],
             [
              0.6666666666666666,
              "#ed7953"
             ],
             [
              0.7777777777777778,
              "#fb9f3a"
             ],
             [
              0.8888888888888888,
              "#fdca26"
             ],
             [
              1,
              "#f0f921"
             ]
            ],
            "type": "heatmapgl"
           }
          ],
          "histogram": [
           {
            "marker": {
             "pattern": {
              "fillmode": "overlay",
              "size": 10,
              "solidity": 0.2
             }
            },
            "type": "histogram"
           }
          ],
          "histogram2d": [
           {
            "colorbar": {
             "outlinewidth": 0,
             "ticks": ""
            },
            "colorscale": [
             [
              0,
              "#0d0887"
             ],
             [
              0.1111111111111111,
              "#46039f"
             ],
             [
              0.2222222222222222,
              "#7201a8"
             ],
             [
              0.3333333333333333,
              "#9c179e"
             ],
             [
              0.4444444444444444,
              "#bd3786"
             ],
             [
              0.5555555555555556,
              "#d8576b"
             ],
             [
              0.6666666666666666,
              "#ed7953"
             ],
             [
              0.7777777777777778,
              "#fb9f3a"
             ],
             [
              0.8888888888888888,
              "#fdca26"
             ],
             [
              1,
              "#f0f921"
             ]
            ],
            "type": "histogram2d"
           }
          ],
          "histogram2dcontour": [
           {
            "colorbar": {
             "outlinewidth": 0,
             "ticks": ""
            },
            "colorscale": [
             [
              0,
              "#0d0887"
             ],
             [
              0.1111111111111111,
              "#46039f"
             ],
             [
              0.2222222222222222,
              "#7201a8"
             ],
             [
              0.3333333333333333,
              "#9c179e"
             ],
             [
              0.4444444444444444,
              "#bd3786"
             ],
             [
              0.5555555555555556,
              "#d8576b"
             ],
             [
              0.6666666666666666,
              "#ed7953"
             ],
             [
              0.7777777777777778,
              "#fb9f3a"
             ],
             [
              0.8888888888888888,
              "#fdca26"
             ],
             [
              1,
              "#f0f921"
             ]
            ],
            "type": "histogram2dcontour"
           }
          ],
          "mesh3d": [
           {
            "colorbar": {
             "outlinewidth": 0,
             "ticks": ""
            },
            "type": "mesh3d"
           }
          ],
          "parcoords": [
           {
            "line": {
             "colorbar": {
              "outlinewidth": 0,
              "ticks": ""
             }
            },
            "type": "parcoords"
           }
          ],
          "pie": [
           {
            "automargin": true,
            "type": "pie"
           }
          ],
          "scatter": [
           {
            "fillpattern": {
             "fillmode": "overlay",
             "size": 10,
             "solidity": 0.2
            },
            "type": "scatter"
           }
          ],
          "scatter3d": [
           {
            "line": {
             "colorbar": {
              "outlinewidth": 0,
              "ticks": ""
             }
            },
            "marker": {
             "colorbar": {
              "outlinewidth": 0,
              "ticks": ""
             }
            },
            "type": "scatter3d"
           }
          ],
          "scattercarpet": [
           {
            "marker": {
             "colorbar": {
              "outlinewidth": 0,
              "ticks": ""
             }
            },
            "type": "scattercarpet"
           }
          ],
          "scattergeo": [
           {
            "marker": {
             "colorbar": {
              "outlinewidth": 0,
              "ticks": ""
             }
            },
            "type": "scattergeo"
           }
          ],
          "scattergl": [
           {
            "marker": {
             "colorbar": {
              "outlinewidth": 0,
              "ticks": ""
             }
            },
            "type": "scattergl"
           }
          ],
          "scattermapbox": [
           {
            "marker": {
             "colorbar": {
              "outlinewidth": 0,
              "ticks": ""
             }
            },
            "type": "scattermapbox"
           }
          ],
          "scatterpolar": [
           {
            "marker": {
             "colorbar": {
              "outlinewidth": 0,
              "ticks": ""
             }
            },
            "type": "scatterpolar"
           }
          ],
          "scatterpolargl": [
           {
            "marker": {
             "colorbar": {
              "outlinewidth": 0,
              "ticks": ""
             }
            },
            "type": "scatterpolargl"
           }
          ],
          "scatterternary": [
           {
            "marker": {
             "colorbar": {
              "outlinewidth": 0,
              "ticks": ""
             }
            },
            "type": "scatterternary"
           }
          ],
          "surface": [
           {
            "colorbar": {
             "outlinewidth": 0,
             "ticks": ""
            },
            "colorscale": [
             [
              0,
              "#0d0887"
             ],
             [
              0.1111111111111111,
              "#46039f"
             ],
             [
              0.2222222222222222,
              "#7201a8"
             ],
             [
              0.3333333333333333,
              "#9c179e"
             ],
             [
              0.4444444444444444,
              "#bd3786"
             ],
             [
              0.5555555555555556,
              "#d8576b"
             ],
             [
              0.6666666666666666,
              "#ed7953"
             ],
             [
              0.7777777777777778,
              "#fb9f3a"
             ],
             [
              0.8888888888888888,
              "#fdca26"
             ],
             [
              1,
              "#f0f921"
             ]
            ],
            "type": "surface"
           }
          ],
          "table": [
           {
            "cells": {
             "fill": {
              "color": "#EBF0F8"
             },
             "line": {
              "color": "white"
             }
            },
            "header": {
             "fill": {
              "color": "#C8D4E3"
             },
             "line": {
              "color": "white"
             }
            },
            "type": "table"
           }
          ]
         },
         "layout": {
          "annotationdefaults": {
           "arrowcolor": "#2a3f5f",
           "arrowhead": 0,
           "arrowwidth": 1
          },
          "autotypenumbers": "strict",
          "coloraxis": {
           "colorbar": {
            "outlinewidth": 0,
            "ticks": ""
           }
          },
          "colorscale": {
           "diverging": [
            [
             0,
             "#8e0152"
            ],
            [
             0.1,
             "#c51b7d"
            ],
            [
             0.2,
             "#de77ae"
            ],
            [
             0.3,
             "#f1b6da"
            ],
            [
             0.4,
             "#fde0ef"
            ],
            [
             0.5,
             "#f7f7f7"
            ],
            [
             0.6,
             "#e6f5d0"
            ],
            [
             0.7,
             "#b8e186"
            ],
            [
             0.8,
             "#7fbc41"
            ],
            [
             0.9,
             "#4d9221"
            ],
            [
             1,
             "#276419"
            ]
           ],
           "sequential": [
            [
             0,
             "#0d0887"
            ],
            [
             0.1111111111111111,
             "#46039f"
            ],
            [
             0.2222222222222222,
             "#7201a8"
            ],
            [
             0.3333333333333333,
             "#9c179e"
            ],
            [
             0.4444444444444444,
             "#bd3786"
            ],
            [
             0.5555555555555556,
             "#d8576b"
            ],
            [
             0.6666666666666666,
             "#ed7953"
            ],
            [
             0.7777777777777778,
             "#fb9f3a"
            ],
            [
             0.8888888888888888,
             "#fdca26"
            ],
            [
             1,
             "#f0f921"
            ]
           ],
           "sequentialminus": [
            [
             0,
             "#0d0887"
            ],
            [
             0.1111111111111111,
             "#46039f"
            ],
            [
             0.2222222222222222,
             "#7201a8"
            ],
            [
             0.3333333333333333,
             "#9c179e"
            ],
            [
             0.4444444444444444,
             "#bd3786"
            ],
            [
             0.5555555555555556,
             "#d8576b"
            ],
            [
             0.6666666666666666,
             "#ed7953"
            ],
            [
             0.7777777777777778,
             "#fb9f3a"
            ],
            [
             0.8888888888888888,
             "#fdca26"
            ],
            [
             1,
             "#f0f921"
            ]
           ]
          },
          "colorway": [
           "#636efa",
           "#EF553B",
           "#00cc96",
           "#ab63fa",
           "#FFA15A",
           "#19d3f3",
           "#FF6692",
           "#B6E880",
           "#FF97FF",
           "#FECB52"
          ],
          "font": {
           "color": "#2a3f5f"
          },
          "geo": {
           "bgcolor": "white",
           "lakecolor": "white",
           "landcolor": "#E5ECF6",
           "showlakes": true,
           "showland": true,
           "subunitcolor": "white"
          },
          "hoverlabel": {
           "align": "left"
          },
          "hovermode": "closest",
          "mapbox": {
           "style": "light"
          },
          "paper_bgcolor": "white",
          "plot_bgcolor": "#E5ECF6",
          "polar": {
           "angularaxis": {
            "gridcolor": "white",
            "linecolor": "white",
            "ticks": ""
           },
           "bgcolor": "#E5ECF6",
           "radialaxis": {
            "gridcolor": "white",
            "linecolor": "white",
            "ticks": ""
           }
          },
          "scene": {
           "xaxis": {
            "backgroundcolor": "#E5ECF6",
            "gridcolor": "white",
            "gridwidth": 2,
            "linecolor": "white",
            "showbackground": true,
            "ticks": "",
            "zerolinecolor": "white"
           },
           "yaxis": {
            "backgroundcolor": "#E5ECF6",
            "gridcolor": "white",
            "gridwidth": 2,
            "linecolor": "white",
            "showbackground": true,
            "ticks": "",
            "zerolinecolor": "white"
           },
           "zaxis": {
            "backgroundcolor": "#E5ECF6",
            "gridcolor": "white",
            "gridwidth": 2,
            "linecolor": "white",
            "showbackground": true,
            "ticks": "",
            "zerolinecolor": "white"
           }
          },
          "shapedefaults": {
           "line": {
            "color": "#2a3f5f"
           }
          },
          "ternary": {
           "aaxis": {
            "gridcolor": "white",
            "linecolor": "white",
            "ticks": ""
           },
           "baxis": {
            "gridcolor": "white",
            "linecolor": "white",
            "ticks": ""
           },
           "bgcolor": "#E5ECF6",
           "caxis": {
            "gridcolor": "white",
            "linecolor": "white",
            "ticks": ""
           }
          },
          "title": {
           "x": 0.05
          },
          "xaxis": {
           "automargin": true,
           "gridcolor": "white",
           "linecolor": "white",
           "ticks": "",
           "title": {
            "standoff": 15
           },
           "zerolinecolor": "white",
           "zerolinewidth": 2
          },
          "yaxis": {
           "automargin": true,
           "gridcolor": "white",
           "linecolor": "white",
           "ticks": "",
           "title": {
            "standoff": 15
           },
           "zerolinecolor": "white",
           "zerolinewidth": 2
          }
         }
        },
        "title": {
         "text": "Choropleth Map Over Years"
        },
        "updatemenus": [
         {
          "buttons": [
           {
            "args": [
             null,
             {
              "frame": {
               "duration": 500,
               "redraw": true
              },
              "fromcurrent": true,
              "mode": "immediate",
              "transition": {
               "duration": 500,
               "easing": "linear"
              }
             }
            ],
            "label": "&#9654;",
            "method": "animate"
           },
           {
            "args": [
             [
              null
             ],
             {
              "frame": {
               "duration": 0,
               "redraw": true
              },
              "fromcurrent": true,
              "mode": "immediate",
              "transition": {
               "duration": 0,
               "easing": "linear"
              }
             }
            ],
            "label": "&#9724;",
            "method": "animate"
           }
          ],
          "direction": "left",
          "pad": {
           "r": 10,
           "t": 70
          },
          "showactive": false,
          "type": "buttons",
          "x": 0.1,
          "xanchor": "right",
          "y": 0,
          "yanchor": "top"
         }
        ]
       }
      }
     },
     "metadata": {},
     "output_type": "display_data"
    }
   ],
   "source": [
    "# Create an animated choropleth map using Plotly\n",
    "fig = px.choropleth(\n",
    "    pivot_table,\n",
    "    locations=\"state_abbv\",\n",
    "    locationmode=\"USA-states\",\n",
    "    color=\"Very Conservative Proportion\",\n",
    "    animation_frame=\"year\",  # Specify the column for animation\n",
    "    scope=\"usa\",\n",
    "    color_continuous_scale=\"Reds\",\n",
    "    title=\"Choropleth Map Over Years\",\n",
    "    range_color=(pivot_table['Very Conservative Proportion'].min(), pivot_table['Very Conservative Proportion'].max())  # Set the color scale range\n",
    ")\n",
    "\n",
    "fig.update_geos(\n",
    "    resolution=50,\n",
    "    showcoastlines=True,\n",
    "    coastlinecolor=\"Black\",\n",
    "    showland=True,\n",
    "    landcolor=\"white\"\n",
    ")\n",
    "\n",
    "fig.show()"
   ]
  }
 ],
 "metadata": {
  "kernelspec": {
   "display_name": "Python 3",
   "language": "python",
   "name": "python3"
  },
  "language_info": {
   "codemirror_mode": {
    "name": "ipython",
    "version": 3
   },
   "file_extension": ".py",
   "mimetype": "text/x-python",
   "name": "python",
   "nbconvert_exporter": "python",
   "pygments_lexer": "ipython3",
   "version": "3.11.3"
  },
  "orig_nbformat": 4
 },
 "nbformat": 4,
 "nbformat_minor": 2
}
